{
 "cells": [
  {
   "cell_type": "markdown",
   "metadata": {},
   "source": [
    "# Quantum search algorithm: Grover\n",
    "\n",
    "This notebook tackles two search problems:\n",
    "- searching palindromes over $n$ bits, and\n",
    "- searching for clean coloring of a graph\n",
    "\n",
    "## Searching palindromes\n",
    "\n",
    "\n",
    "In a first attempt, we will write a Grover algorithm that finds palindromic sequences of bits in $\\{0, 1\\}^n$.\n",
    "\n",
    "It is not very interessant, but it presents two advantages:\n",
    "- the oracle will be simple to write\n",
    "- the number of acceptable solutions can be easily computed!\n",
    "\n",
    "\n",
    "To write our search algorithm we need two ingredients: a diffusion operator and an oracle that marks the searched items.\n",
    "\n",
    "## Diffusion operator\n",
    "\n",
    "In our simple example, Grover's diffusion operator is the following unitary operator:\n",
    "\n",
    "$$D =  \\mathbb{I} - 2|s\\rangle\\langle s| $$\n",
    "where $|s\\rangle = \\frac{1}{\\sqrt{2^n}}\\sum_{x \\in \\{ 0, 1 \\}^n } |x\\rangle$\n",
    "\n",
    "The simplest way to implement this operator is to proceed as follows:\n",
    "\n",
    "**Step 1** perform a Hadamard transform. In this new basis, $D$ becomes $ \\mathbb{I} - 2|0^n\\rangle\\langle 0^n|$ which is the identity where the top left entry is $-1$.\n",
    "\n",
    "**Step 2** bit flip all the qubits. In this new basis, $D$ is the identity with a single $-1$ in the bottom right entry.\n",
    "\n",
    "**Step 3** perform a phase flip controlled by all the qubits. This effectively implements $D$ in the current basis.\n",
    "\n",
    "**Step 4** undo step 2 & 1.\n",
    "\n",
    "\n",
    "We will use a `QRoutine` object to wrap the diffusion.\n",
    "\n",
    "**hint** `QRoutine`objects have a `.compute()`  and `.uncompute()` method that can be useful.\n",
    "\n",
    "Write a function that, given a number of qubits, returns a QRoutine implementing Grover's diffusion operator.\n"
   ]
  },
  {
   "cell_type": "code",
   "execution_count": null,
   "metadata": {},
   "outputs": [],
   "source": [
    "import numpy as np\n",
    "import networkx as nx\n",
    "from qat.lang.AQASM import *\n",
    "from qat.qpus import get_default_qpu\n",
    "\n",
    "def grover_diffusion(nbqbits):\n",
    "    \"\"\" Builds a QRoutine that implemens a diffusion operator over `nbqbits` qbits \"\"\"\n",
    "    "
   ]
  },
  {
   "cell_type": "markdown",
   "metadata": {},
   "source": [
    "# OraclelcarO\n",
    "\n",
    "Now we need to write an oracle $\\mathcal{O}$ such that \n",
    "$$ \\mathcal{O}|x\\rangle = |x\\rangle$$\n",
    "if $x$ is not a palindrome and\n",
    "$$ \\mathcal{O}|x\\rangle = -|x\\rangle$$\n",
    "otherwise.\n",
    "\n",
    "We will assume that $n$ is even (simpler this way, the odd case doen't bring much).\n",
    "\n",
    "**Hints**:\n",
    "* XOR is implemented using a CNOT\n",
    "* AND on $k$ bits is implemented using `X.ctrl(k)`\n",
    "* gate `Z.ctrl(k)` (acting on $k+1$ qbits) flips the amplitude iff all the qbits are set to $1$."
   ]
  },
  {
   "cell_type": "code",
   "execution_count": null,
   "metadata": {},
   "outputs": [],
   "source": [
    "\n",
    "def palindrome_oracle(length):\n",
    "    \"\"\" Builds a QRoutine that adds a phase of pi to palindromes \"\"\"\n"
   ]
  },
  {
   "cell_type": "markdown",
   "metadata": {},
   "source": [
    "## A first Grover\n",
    "\n",
    "Now we can write a Grover search that finds palindromes.\n",
    "\n",
    "Recall that Grover's aglorithms consists in:\n",
    "- preparing the data register in superposition ($H$ gates)\n",
    "- repeat $k$ times: \n",
    "    - apply the oracle\n",
    "    - apply Grover's diffusion\n",
    "\n",
    "Write a function that computes the probability of measuring a palindrome at the end of a Grover search with a fixed number of steps. \n",
    "\n",
    "What is the optimal number of steps? (recall that it is $\\frac{\\pi}{4}\\frac{1}{\\sqrt{a}}$ where $a$ is the fraction of *good* elements in our search space)."
   ]
  },
  {
   "cell_type": "code",
   "execution_count": null,
   "metadata": {},
   "outputs": [],
   "source": [
    "def quantum_search_palindromes(nbbits, nsteps):\n",
    "    \"\"\"\n",
    "    Computes the probability of measuring a palindrome over `nbbits` after `nsteps`\n",
    "    of Grover search\n",
    "    \"\"\""
   ]
  },
  {
   "cell_type": "code",
   "execution_count": null,
   "metadata": {},
   "outputs": [],
   "source": [
    "# Test it!"
   ]
  },
  {
   "cell_type": "markdown",
   "metadata": {},
   "source": [
    "## Searching for clean graph colorings\n",
    "\n",
    "Now we want to use Grover search to find clean coloring of a graph.\n",
    "\n",
    "For that we need an oracle $f:\\Sigma^n \\rightarrow \\{0, 1\\}$ that checks the cleanness of a color array.\n",
    "\n",
    "For now, we will use $\\Sigma=\\{0, 1\\}^d$ (that's a lot easier).\n",
    "\n",
    "Quick recall: a clean coloring $c\\in\\Sigma^n$ of $G(V,E)$ verifies $\\bigwedge_{\\{i,j\\}\\in E} c_i \\neq c_j$\n",
    "\n",
    "### Checking each edge\n",
    "\n",
    "We will start by writing a routine that checks that some pair of colors are distinct:\n"
   ]
  },
  {
   "cell_type": "code",
   "execution_count": null,
   "metadata": {},
   "outputs": [],
   "source": [
    "def check_edge(nbbits):\n",
    "    \"\"\" \n",
    "    Returns a routine that compares two values stored on `nbbits` bits\n",
    "    The routine will write the result in an output qubit\n",
    "    (In total, it will use 2*nbbits + 1 qubits)\n",
    "    \"\"\"\n",
    "    "
   ]
  },
  {
   "cell_type": "markdown",
   "metadata": {},
   "source": [
    "### The oracle \n",
    "Now we have what we need to generate the oracle: we just need to compute the logical AND of all the `check_edge` clauses.\n",
    "\n",
    "We will assume that the graph is a networkx graph (if it helps).\n"
   ]
  },
  {
   "cell_type": "code",
   "execution_count": null,
   "metadata": {},
   "outputs": [],
   "source": [
    "def graph_coloring_oracle(graph, nbbits):\n",
    "    \"\"\"\n",
    "    Returns a routine that flips the phase of states representing clean colorings of the input graphs over 2^nbbits colors\n",
    "    \"\"\"\n",
    "   "
   ]
  },
  {
   "cell_type": "markdown",
   "metadata": {},
   "source": [
    "### A cheaper oracle\n",
    "\n",
    "The oracle we just wrote requires a lot of qbits. \n",
    "One simple way to save up on the number of work qubits is to proceeed as follows:\n",
    "* allocate a counter $L$ (a quantum integer) over $\\log{|E|}$ qbits\n",
    "* for each edge, if `check_edge` returns true, increment the counter\n",
    "* finally check that $L = |E|$\n",
    "\n",
    "This approach will use $O(\\log{|E|})$ work qubits and slightly more gates than before (but memory is the bottleneck when we simulate quantum processors).\n",
    "\n",
    "The simplest way to manipulate quantum integers is to add a type to a register (see below)."
   ]
  },
  {
   "cell_type": "code",
   "execution_count": null,
   "metadata": {},
   "outputs": [],
   "source": [
    "rout = QRoutine()\n",
    "qint1 = rout.new_wires(5, QInt)\n",
    "qint2 = rout.new_wires(5, QInt)\n",
    "# Incrementing a counter\n",
    "qint1 += 3\n",
    "# Adding two quantum integers\n",
    "qint1 += qint2\n",
    "\n",
    "a_qbit = rout.new_wires(1)\n",
    "qint1 += a_qbit  ## Here `a_qbit`is understood as a 1-qbit quantum integer\n",
    "\n",
    "# Adding a (-1) phase iff the quantum integer compares to some value\n",
    "(qint1 == 2).phase()\n",
    "(qint1 <= 2).phase()\n",
    "(qint1 >= qint2).phase()\n",
    "(qint1 != 2).phase()\n",
    "\n",
    "%qatdisplay rout --svg"
   ]
  },
  {
   "cell_type": "markdown",
   "metadata": {},
   "source": [
    "Now, write a cheaper version of the oracle that uses a counter to count how many edges are correctly colored."
   ]
  },
  {
   "cell_type": "code",
   "execution_count": null,
   "metadata": {},
   "outputs": [],
   "source": [
    "def cheaper_graph_coloring_oracle(graph, nbbits):\n",
    "    \"\"\"\n",
    "    Returns a routine that flips the phase of states representing clean colorings of the input graphs over 2^nbbits colors\n",
    "    This time use a counter!\n",
    "    \"\"\"\n",
    "   "
   ]
  },
  {
   "cell_type": "markdown",
   "metadata": {},
   "source": [
    "We should have all the ingredients to code a function that outputs the probability of measuring a clean coloring after `n` steps.\n",
    "\n",
    "Once this works, you can try to plot the probability as a function of the number of steps. What should we expect?\n"
   ]
  },
  {
   "cell_type": "code",
   "execution_count": null,
   "metadata": {
    "scrolled": false
   },
   "outputs": [],
   "source": [
    "from qat.lang.AQASM import qftarith\n",
    "\n",
    "def quantum_search_coloring(graph, nbbits, nsteps):\n",
    "     \"\"\"\n",
    "    Computes the probability of measuring a clean coloring of `graph` using `2**nbbits` colors after `nsteps` \n",
    "    of Grover search.\n",
    "    \"\"\""
   ]
  },
  {
   "cell_type": "code",
   "execution_count": null,
   "metadata": {},
   "outputs": [],
   "source": [
    "# Test it, plot it"
   ]
  }
 ],
 "metadata": {
  "kernelspec": {
   "display_name": "myqlm2",
   "language": "python",
   "name": "myqlm2"
  },
  "language_info": {
   "codemirror_mode": {
    "name": "ipython",
    "version": 3
   },
   "file_extension": ".py",
   "mimetype": "text/x-python",
   "name": "python",
   "nbconvert_exporter": "python",
   "pygments_lexer": "ipython3",
   "version": "3.6.12"
  }
 },
 "nbformat": 4,
 "nbformat_minor": 4
}
