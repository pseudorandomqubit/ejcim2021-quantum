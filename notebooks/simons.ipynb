{
 "cells": [
  {
   "cell_type": "markdown",
   "metadata": {},
   "source": [
    "# Simon's algorithm\n",
    "\n",
    "\n",
    "**Input:** some oracle function $f:\\{0, 1\\}^n \\rightarrow \\{0, 1\\}^n$ and such $f$ is $s$ periodic\n",
    "$f(x) = f(y)$ iff $x \\oplus y = 0$ or $x \\oplus y = s$\n",
    "\n",
    "**Goal:** find $s$\n",
    "\n",
    "\n",
    "This is a Hidden Subgroup Problem with: $G = \\{0, 1\\}^n$, $G\\geq H = \\{0^n, s\\}$\n",
    "\n",
    "As other HSP, we solve it using a Quantum Fourier Transform:\n",
    "\n",
    "**Step 1** allocate two registers $A$ and $B$\n",
    "\n",
    "**Step 2** generate a uniform superposition on $A$ using a Hadamard transform (which coincides with G's Fourier Transform)\n",
    "\n",
    "**Step 3** apply the oracle on $A$ and $B$\n",
    "\n",
    "**Step 4** apply another Hadamard transform on $A$ \n",
    "\n",
    "**Step 5** measure $A$\n",
    "\n",
    "\n",
    "The final sampling will produce bit-strings in $H^\\bot = \\{y | y\\cdot s = 0\\}$\n",
    "\n",
    "Remains to gather $O(n)$ samples and find $s$ by inverting a linear system.\n",
    "\n",
    "\n",
    "## Oracle generation\n",
    "\n",
    "To keep the oracle model simple, we will restrict ourselves to linear operators over $\\mathbb{F}_2^n$.\n",
    "\n",
    "Since $f$ is required to be 2-to-1, I propose the following random generation procedure:\n",
    "\n",
    "1) pick a random invertible linear operator $A$ over $\\mathbb{F}_2^n$\n",
    "\n",
    "2) define $f$ as $x \\mapsto ((Ax)_1, ..., (Ax)_{n-1})$\n",
    "\n",
    "This function is :\n",
    "-  $A^{-1}e_{n}$ periodic\n",
    "-  2-to-1.\n",
    "-  very simple to implement using CNOT gates\n",
    "\n",
    "\n",
    "**Note:** If you have a better idea, go ahead :D I picked this because linear operators are really simple to implement using CNOT gates and I'm lazy! You can also throw in some random bit flips.\n"
   ]
  },
  {
   "cell_type": "code",
   "execution_count": 63,
   "metadata": {},
   "outputs": [],
   "source": [
    "import numpy as np\n",
    "from qat.qpus import get_default_qpu\n",
    "from qat.lang.AQASM import *\n",
    "\n",
    "def random_oracle(nbbits):\n",
    "    ###############\n",
    "    ### TODO\n",
    "    ###############\n",
    "    return"
   ]
  },
  {
   "cell_type": "code",
   "execution_count": 64,
   "metadata": {},
   "outputs": [],
   "source": [
    "\n",
    "def nullspace(A):\n",
    "    \"\"\"\n",
    "    Computes a non trivial vector in the nullspace of A\n",
    "    \"\"\"\n",
    "    #############\n",
    "    #### TODO\n",
    "    ##############\n",
    "    pass\n",
    "\n",
    "def quantum_solve(oracle, nbbits):\n",
    "    ###########\n",
    "    ### TODO\n",
    "    ###########\n",
    "    pass\n",
    "    "
   ]
  },
  {
   "cell_type": "code",
   "execution_count": null,
   "metadata": {},
   "outputs": [],
   "source": []
  }
 ],
 "metadata": {
  "kernelspec": {
   "display_name": "myqlm2",
   "language": "python",
   "name": "myqlm2"
  },
  "language_info": {
   "codemirror_mode": {
    "name": "ipython",
    "version": 3
   },
   "file_extension": ".py",
   "mimetype": "text/x-python",
   "name": "python",
   "nbconvert_exporter": "python",
   "pygments_lexer": "ipython3",
   "version": "3.6.12"
  }
 },
 "nbformat": 4,
 "nbformat_minor": 4
}
