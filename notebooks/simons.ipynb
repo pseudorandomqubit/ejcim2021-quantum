{
 "cells": [
  {
   "cell_type": "markdown",
   "metadata": {},
   "source": [
    "# Simon's algorithm\n",
    "\n",
    "Simon's problem is the following:\n",
    "\n",
    "**Input:** some oracle function $f:\\{0, 1\\}^n \\rightarrow \\{0, 1\\}^n$ and such $f$ is $s$ periodic\n",
    "$f(x) = f(y)$ iff $x \\oplus y = 0$ or $x \\oplus y = s$\n",
    "\n",
    "**Goal:** find $s$\n",
    "\n",
    "It's a query complexity problem: the goal is to minimize the number of calls to $f$.\n",
    "\n",
    "The classical query complexity is exponential in $n$ ($2^{n/2}$ calls).\n",
    "\n",
    "Simon's algorithm finds $s$ in $O(n)$ calls to a quantum version of $f$.\n",
    "\n",
    "\n",
    "If we want to code this algorithm, we first need a way to construct an oracle $f$ that fits the requirements of the problem.\n",
    "\n",
    "\n",
    "## Oracle generation\n",
    "\n",
    "To keep the oracle model simple, we will restrict ourselves to linear operators over $\\mathbb{F}_2^n$.\n",
    "\n",
    "Since $f$ is required to be 2-to-1, I propose the following random generation procedure:\n",
    "\n",
    "1) pick a random invertible linear operator $A$ over $\\mathbb{F}_2^n$\n",
    "\n",
    "2) define $f$ as $x \\mapsto ((Ax)_1, ..., (Ax)_{n-1})$\n",
    "\n",
    "This function is :\n",
    "-  $A^{-1}e_{n}$ periodic\n",
    "-  2-to-1.\n",
    "-  very simple to implement using CNOT gates\n",
    "\n",
    "**Hints:** any linear operator $A\\in GL(n, \\mathbb{F}_2)$ can be implemeted using CNOT gates only.\n",
    "\n",
    "Composing such an operator with a new CNOT gate accounts for a row operation:\n",
    "\n",
    "If $A' = CNOT_{i, j}  A$ then $A'[j] = A[i] \\oplus A[j]$.\n",
    "\n",
    "It takes abount $n^2$ random row operations to construct an interestringly complicated operator (starting from the identity). This should give you an idea on how to construct a random $A$.\n"
   ]
  },
  {
   "cell_type": "code",
   "execution_count": null,
   "metadata": {},
   "outputs": [],
   "source": [
    "import numpy as np\n",
    "from qat.qpus import get_default_qpu\n",
    "from qat.lang.AQASM import *\n",
    "\n",
    "def random_oracle(nbbits):\n",
    "    ###############\n",
    "    ### TODO\n",
    "    ###############\n",
    "    pass"
   ]
  },
  {
   "cell_type": "markdown",
   "metadata": {},
   "source": [
    "## Quantum algorithm & classical post-processing\n",
    "\n",
    "This is a Hidden Subgroup Problem with: $G = \\{0, 1\\}^n$, $G\\geq H = \\{0^n, s\\}$\n",
    "\n",
    "As other HSP, we solve it using a Quantum Fourier Transform:\n",
    "\n",
    "**Step 1** allocate two registers $A$ and $B$\n",
    "\n",
    "**Step 2** generate a uniform superposition on $A$ using a Hadamard transform (which coincides with G's Fourier Transform)\n",
    "\n",
    "**Step 3** apply the oracle on $A$ and $B$ (input $A$ and output $B$)\n",
    "\n",
    "**Step 4** apply another Hadamard transform on $A$ \n",
    "\n",
    "**Step 5** measure $A$\n",
    "\n",
    "\n",
    "The final sampling will produce bit-strings in $H^\\bot = \\{y | y\\cdot s = 0\\}$\n",
    "\n",
    "Remains to gather $O(n)$ samples and find $s$ by inverting a linear system.\n",
    "\n",
    "### Classical post processing\n",
    "\n",
    "We will start with the classical post-processing.\n",
    "\n",
    "For the post-processing, we will assume that we are given $m$ bit-strings $y_1, ..., y_m$ such that $y_i\\cdot s = 0$ and we need to recover $s$.\n",
    "\n",
    "\n",
    "\n",
    "Lets write a function that given $A=\\left[y_1, \\cdots, y_m\\right]$ computes a non-trivial element in the nullspace of $A$.\n",
    "\n",
    "A simple way to do that is to:\n",
    "\n",
    "1) Put A in Row Echelon Form (REF)\n",
    "\n",
    "2) Put $A'=A^T$ in REF while mimicking row operations on a matrix $B$ initialized as the identity\n",
    "\n",
    "3) Returning the rows of $B$ corresponding to $0$ rows of A'\n"
   ]
  },
  {
   "cell_type": "code",
   "execution_count": null,
   "metadata": {},
   "outputs": [],
   "source": [
    "def row_echelon(A, B=None):\n",
    "    \"\"\" Put A in REF (and mimick operations on B if needed)\"\"\"\n",
    "\n",
    "def nullspace(A):\n",
    "    \"\"\"\n",
    "    Computes a non trivial vector in the nullspace of A\n",
    "    \"\"\""
   ]
  },
  {
   "cell_type": "markdown",
   "metadata": {},
   "source": [
    "## Quantum Fourier Sampling\n",
    "\n",
    "Implement the Quantum Fourier Sampling described above and use the `nullspace` method to find $s$ using an oracle."
   ]
  },
  {
   "cell_type": "code",
   "execution_count": null,
   "metadata": {},
   "outputs": [],
   "source": [
    "def quantum_solve(oracle, nbbits):\n",
    "    ###########\n",
    "    ### TODO\n",
    "    ###########\n",
    "    pass\n",
    "    "
   ]
  },
  {
   "cell_type": "code",
   "execution_count": null,
   "metadata": {},
   "outputs": [],
   "source": []
  }
 ],
 "metadata": {
  "kernelspec": {
   "display_name": "myqlm2",
   "language": "python",
   "name": "myqlm2"
  },
  "language_info": {
   "codemirror_mode": {
    "name": "ipython",
    "version": 3
   },
   "file_extension": ".py",
   "mimetype": "text/x-python",
   "name": "python",
   "nbconvert_exporter": "python",
   "pygments_lexer": "ipython3",
   "version": "3.6.12"
  }
 },
 "nbformat": 4,
 "nbformat_minor": 4
}
