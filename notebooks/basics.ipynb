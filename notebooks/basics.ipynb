{
 "cells": [
  {
   "cell_type": "markdown",
   "metadata": {},
   "source": [
    "# Programs, Circuits, and Jobs"
   ]
  },
  {
   "cell_type": "code",
   "execution_count": null,
   "metadata": {},
   "outputs": [],
   "source": [
    "# imports for quantum circuit description\n",
    "from qat.lang.AQASM import *\n",
    "\n",
    "# quantum program declaration\n",
    "prog = Program()\n",
    "# qbit allocation\n",
    "qbits = prog.qalloc(2)\n",
    "# gate application\n",
    "H(qbits[0]) # a Hadamard gate on the first qubit\n",
    "CNOT(qbits[0], qbits[1]) # a CNOT gate from qubit 0 to qubit 1\n",
    "circuit = prog.to_circ() # circuit generation\n",
    "job = circuit.to_job() # this is the object that will executed\n",
    "job = circuit.to_job(qubits=[0, 1]) # this restricts the sampling to the first 2 qubits\n",
    "job = circuit.to_job(qubits=[0, 1], nbshots=33) # this restricts the sampling to 33 shots\n",
    "# circuits can be displayed like so\n",
    "%qatdisplay circuit --svg"
   ]
  },
  {
   "cell_type": "markdown",
   "metadata": {},
   "source": [
    "# Quantum gates\n",
    "\n",
    "All gates can be inverted using `.dag` and controlled using `.ctrl()` or `.ctrl(k)`."
   ]
  },
  {
   "cell_type": "code",
   "execution_count": null,
   "metadata": {},
   "outputs": [],
   "source": [
    "prog = Program()\n",
    "qbits = prog.qalloc(5)\n",
    "X.ctrl()(qbits[0], qbits[1])\n",
    "RZ(0.322).dag()(qbits[0])\n",
    "H.ctrl(4)(qbits)\n",
    "circuit = prog.to_circ()\n",
    "%qatdisplay circuit --svg"
   ]
  },
  {
   "cell_type": "markdown",
   "metadata": {},
   "source": [
    "The gates will will need are the following:"
   ]
  },
  {
   "cell_type": "code",
   "execution_count": null,
   "metadata": {},
   "outputs": [],
   "source": [
    "prog = Program()\n",
    "qbits = prog.qalloc(4)\n",
    "# Hadamard gate (to create superpositions and interferences)\n",
    "H(qbits[0])\n",
    "# CNOT gate: a xor (or controlled NOT)\n",
    "CNOT(qbits[0], qbits[1])\n",
    "# CCNOT gate or X.ctrl(k) gates: a logical and between two or more qubits\n",
    "CCNOT(qbits[:-1])\n",
    "X.ctrl(3)(qbits)\n",
    "# Z gate: this one flips the phase of a qubit iff its in |1> state\n",
    "Z(qbits[1])\n",
    "# One can use its contolled version to flip a state iff all its qubits are in |1>\n",
    "Z.ctrl(3)(qbits)\n",
    "circuit = prog.to_circ()\n",
    "%qatdisplay circuit --svg"
   ]
  },
  {
   "cell_type": "markdown",
   "metadata": {},
   "source": [
    "# QRoutine\n",
    "\n",
    "Sometimes it is useful to declare subroutines/subcircuits. You can think of them as large quantum gates wrapping a quantum circuit.\n",
    "\n",
    "These are declared using `QRoutine` objects that have almost the same interface as `Programs`.\n",
    "\n",
    "QRoutines can also be controlled/inverted"
   ]
  },
  {
   "cell_type": "code",
   "execution_count": null,
   "metadata": {},
   "outputs": [],
   "source": [
    "routine = QRoutine()\n",
    "# input/output wires are declared via .new_wires\n",
    "wires = routine.new_wires(5)\n",
    "for wire in wires:\n",
    "    H(wire)\n",
    "    RZ(1.5)(wire)\n",
    "    \n",
    "%qatdisplay routine --svg\n",
    "\n",
    "inv = routine.dag()\n",
    "%qatdisplay inv --svg\n",
    "controlled = routine.ctrl(2)\n",
    "%qatdisplay controlled --svg"
   ]
  },
  {
   "cell_type": "markdown",
   "metadata": {},
   "source": [
    "## Compute/uncompute\n",
    "\n",
    "In reversible computing, tt happens quite a lot that you'll need to:\n",
    "- compute something\n",
    "- compute another thing\n",
    "- uncompute the first thing\n",
    "\n",
    "For instance, lets say we want to"
   ]
  },
  {
   "cell_type": "markdown",
   "metadata": {},
   "source": [
    "# Execution"
   ]
  },
  {
   "cell_type": "code",
   "execution_count": null,
   "metadata": {},
   "outputs": [],
   "source": [
    "# importing a simulator\n",
    "from qat.qpus import get_default_qpu\n",
    "qpu = get_default_qpu()\n",
    "# submitting a job to the simulator\n",
    "result = qpu.submit(job)\n",
    "for sample in result:\n",
    "    print(sample.state, sample.probability)\n",
    "    print(sample.state.value) # this one is a bit nicer to work with\n",
    "    print(list(map(int, sample.state.value[0]))) # this constructs a proper bit-array"
   ]
  },
  {
   "cell_type": "code",
   "execution_count": null,
   "metadata": {},
   "outputs": [],
   "source": []
  }
 ],
 "metadata": {
  "kernelspec": {
   "display_name": "myqlm2",
   "language": "python",
   "name": "myqlm2"
  },
  "language_info": {
   "codemirror_mode": {
    "name": "ipython",
    "version": 3
   },
   "file_extension": ".py",
   "mimetype": "text/x-python",
   "name": "python",
   "nbconvert_exporter": "python",
   "pygments_lexer": "ipython3",
   "version": "3.6.12"
  }
 },
 "nbformat": 4,
 "nbformat_minor": 4
}
