{
 "cells": [
  {
   "cell_type": "markdown",
   "metadata": {},
   "source": [
    "# Programmation quantique - EJCIM 2021\n",
    "\n",
    "\n",
    "[Bernstein-Vazirani](./bernstein_vazirani.ipynb)\n",
    "\n",
    "[Simon's problem](./simons.ipynb)\n",
    "\n",
    "[Recherche quantique et Grover](./grover.ipynb)"
   ]
  }
 ],
 "metadata": {
  "kernelspec": {
   "display_name": "Python 3",
   "language": "python",
   "name": "python3"
  },
  "language_info": {
   "codemirror_mode": {
    "name": "ipython",
    "version": 3
   },
   "file_extension": ".py",
   "mimetype": "text/x-python",
   "name": "python",
   "nbconvert_exporter": "python",
   "pygments_lexer": "ipython3",
   "version": "3.8.2"
  }
 },
 "nbformat": 4,
 "nbformat_minor": 4
}
