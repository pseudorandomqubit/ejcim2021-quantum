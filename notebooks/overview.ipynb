{
 "cells": [
  {
   "cell_type": "markdown",
   "metadata": {},
   "source": [
    "# Programmation quantique - EJCIM 2021\n",
    "\n",
    "\n",
    "La documentation de la librairie se trouve [ici](https://myqlm.github.io) (si jamais)\n",
    "\n",
    "Un petit notebook avec l'usage basique [là](./basics.ipynb)\n",
    "\n",
    "\n",
    "## Le TP se trouve dans ces notebooks:\n",
    "\n",
    "[Bernstein-Vazirani](./bernstein_vazirani.ipynb)\n",
    "\n",
    "[Simon's problem](./simons.ipynb)\n",
    "\n",
    "[Recherche quantique / Grover](./grover.ipynb)"
   ]
  },
  {
   "cell_type": "code",
   "execution_count": null,
   "metadata": {},
   "outputs": [],
   "source": []
  }
 ],
 "metadata": {
  "kernelspec": {
   "display_name": "Python 3",
   "language": "python",
   "name": "python3"
  },
  "language_info": {
   "codemirror_mode": {
    "name": "ipython",
    "version": 3
   },
   "file_extension": ".py",
   "mimetype": "text/x-python",
   "name": "python",
   "nbconvert_exporter": "python",
   "pygments_lexer": "ipython3",
   "version": "3.8.2"
  }
 },
 "nbformat": 4,
 "nbformat_minor": 4
}
