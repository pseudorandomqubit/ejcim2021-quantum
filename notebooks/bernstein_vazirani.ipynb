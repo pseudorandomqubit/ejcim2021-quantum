{
 "cells": [
  {
   "cell_type": "markdown",
   "metadata": {},
   "source": [
    "# Bernstein-Vazirani algorithm\n",
    "\n",
    "**Input:** oracle $f:\\{0, 1\\}^n \\rightarrow \\{0, 1\\}$ where $f(x) = s\\cdot x$ for some $s \\in \\{0, 1\\}^n$\n",
    "\n",
    "**Goal:** find $s$\n",
    "\n",
    "\n",
    "To make things fair, we will pick a random $s$:"
   ]
  },
  {
   "cell_type": "code",
   "execution_count": null,
   "metadata": {},
   "outputs": [],
   "source": [
    "import numpy as np\n",
    "from qat.lang.AQASM import *\n",
    "\n",
    "def random_oracle(nbbits):\n",
    "    \"\"\" Generates a random oracle \"\"\"\n",
    "    ################\n",
    "    #### TODO ######\n",
    "    ################"
   ]
  },
  {
   "cell_type": "markdown",
   "metadata": {},
   "source": [
    "## Classical algorithm\n",
    "\n",
    "The only way to guess $s$ is to compute each of its components iteratively (i.e $n$ calls to $f$):"
   ]
  },
  {
   "cell_type": "code",
   "execution_count": null,
   "metadata": {},
   "outputs": [],
   "source": [
    "def classical_solve(n, oracle):\n",
    "    \"\"\" Solve the problem classically \"\"\"\n",
    "    ################\n",
    "    #### TODO ######\n",
    "    ################\n",
    "    pass"
   ]
  },
  {
   "cell_type": "markdown",
   "metadata": {},
   "source": [
    "# Quantum algorithm: Bernstein-Vazirani\n",
    "\n",
    "\n",
    "We recall the algorithm:\n",
    "\n",
    "**Step 0:** allocating a register $|0^n\\rangle$ to store $x$\n",
    "\n",
    "**Step 1:** creating a uniform superposition $(H^{\\otimes n}|\\psi \\rangle) $\n",
    "\n",
    "**Step 2:** use the oracle to add a phase $-1$ to each component $|x\\rangle$ s.t $f(x) = 1$\n",
    "\n",
    "**Step 3:** perform a Hadamard transform  $(H^{\\otimes n}|\\psi \\rangle) $\n",
    "\n",
    "**Step 4:** the final state contains $|s\\rangle$, just measure it!\n",
    "\n",
    "\n",
    "There is a catch in step 2!\n",
    "\n",
    "**hint:** $H\\cdot NOT \\cdot H = Z$ and $Z|1\\rangle = - |1\\rangle$\n"
   ]
  },
  {
   "cell_type": "code",
   "execution_count": null,
   "metadata": {},
   "outputs": [],
   "source": [
    "from qat.qpus import get_default_qpu\n",
    "\n",
    "def quantum_solve(n, oracle):\n",
    "    \"\"\" Solve the problem quantumly \"\"\"\n",
    "    ################\n",
    "    #### TODO ######\n",
    "    ################\n",
    "    pass\n",
    " "
   ]
  },
  {
   "cell_type": "code",
   "execution_count": null,
   "metadata": {},
   "outputs": [],
   "source": []
  }
 ],
 "metadata": {
  "kernelspec": {
   "display_name": "myqlm2",
   "language": "python",
   "name": "myqlm2"
  },
  "language_info": {
   "codemirror_mode": {
    "name": "ipython",
    "version": 3
   },
   "file_extension": ".py",
   "mimetype": "text/x-python",
   "name": "python",
   "nbconvert_exporter": "python",
   "pygments_lexer": "ipython3",
   "version": "3.6.12"
  }
 },
 "nbformat": 4,
 "nbformat_minor": 4
}
