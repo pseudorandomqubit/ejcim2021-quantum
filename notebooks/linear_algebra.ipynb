{
 "cells": [
  {
   "cell_type": "markdown",
   "metadata": {},
   "source": [
    "This is the correction for the classical post-processing needed in Simon's algorithm.\n",
    "It assumes that A and B are numpy arrays."
   ]
  },
  {
   "cell_type": "code",
   "execution_count": null,
   "metadata": {},
   "outputs": [],
   "source": [
    "import numpy as np\n",
    "\n",
    "\n",
    "def rowechelon(A, B=None):\n",
    "    \"\"\" Row echelon form \"\"\"\n",
    "    for i in range(A.shape[1]):\n",
    "        pivot = None\n",
    "        for j in range(i, A.shape[0]):\n",
    "            if A[j][i]:\n",
    "                pivot = j\n",
    "                break\n",
    "        if pivot is None:\n",
    "            continue\n",
    "        if pivot != i:\n",
    "            A[[i, pivot]] = A[[pivot, i]]\n",
    "            if B is not None:\n",
    "                B[[i, pivot]] = B[[pivot, i]]\n",
    "        for j in range(i+1, A.shape[0]):\n",
    "            if A[j][i]:\n",
    "                A[j] ^= A[i]\n",
    "                if B is not None:\n",
    "                    B[j] ^= B[i]\n",
    "    \n",
    "    \n",
    "def nullspace(A):\n",
    "    \"\"\" Computes a non-trivial generator of the nullspace of A \"\"\"\n",
    "    rowechelon(A)\n",
    "    B = np.eye(A.shape[1], dtype=np.byte)\n",
    "    A = A.T\n",
    "    rowechelon(A, B)\n",
    "    for r1, r2 in zip(A, B):\n",
    "        if all(b == 0 for b in r1):\n",
    "            return r2"
   ]
  }
 ],
 "metadata": {
  "kernelspec": {
   "display_name": "myqlm2",
   "language": "python",
   "name": "myqlm2"
  },
  "language_info": {
   "codemirror_mode": {
    "name": "ipython",
    "version": 3
   },
   "file_extension": ".py",
   "mimetype": "text/x-python",
   "name": "python",
   "nbconvert_exporter": "python",
   "pygments_lexer": "ipython3",
   "version": "3.6.12"
  }
 },
 "nbformat": 4,
 "nbformat_minor": 4
}
