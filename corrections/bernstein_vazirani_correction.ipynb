{
 "cells": [
  {
   "cell_type": "markdown",
   "metadata": {},
   "source": [
    "# Bernstein-Vazirani algorithm\n",
    "\n",
    "**Input:** oracle $f:\\{0, 1\\}^n \\rightarrow \\{0, 1\\}$ where $f(x) = s\\cdot x$ for some $s \\in \\{0, 1\\}^n$\n",
    "\n",
    "**Goal:** find $s$\n",
    "\n",
    "\n",
    "To make things fair, we will pick a random $s$:"
   ]
  },
  {
   "cell_type": "code",
   "execution_count": null,
   "metadata": {},
   "outputs": [],
   "source": [
    "import numpy as np\n",
    "from qat.lang.AQASM import *\n",
    "\n",
    "def random_oracle(nbbits):\n",
    "    \"\"\" Generates a random oracle \"\"\"\n",
    "    # picking a random s\n",
    "    s = np.random.choice([0, 1], size=nbbits)\n",
    "    \n",
    "    # the classical oracle (quite simple)\n",
    "    def classical_oracle(x):\n",
    "        return s.dot(x) % 2\n",
    "    \n",
    "    # the quantum version of the oracle\n",
    "    quantum_oracle = QRoutine()\n",
    "    input_wires = quantum_oracle.new_wires(nbbits)\n",
    "    output_wire = quantum_oracle.new_wires(1)\n",
    "\n",
    "    for i, bit in enumerate(s):\n",
    "        if bit:\n",
    "            CNOT(input_wires[i], output)\n",
    "    \n",
    "    return classical_oracle, quantum_oracle, s"
   ]
  },
  {
   "cell_type": "markdown",
   "metadata": {},
   "source": [
    "This way we have a classical and a quantum version of the same oracle"
   ]
  },
  {
   "cell_type": "code",
   "execution_count": null,
   "metadata": {},
   "outputs": [],
   "source": [
    "co, qo, secret = random_oracle(5)\n",
    "print(\"Secret is\", secret)\n",
    "\n",
    "\n",
    "# With classical bits: standard function call\n",
    "print(co([0, 1, 1, 0, 1]))\n",
    "\n",
    "# With qubits: we have to work a bit\n",
    "\n",
    "rout = QRoutine()\n",
    "qbits = rout.new_wires(5)\n",
    "output = rout.new_wires(1)\n",
    "qo(qbits, output)\n",
    "\n",
    "%qatdisplay rout --svg"
   ]
  },
  {
   "cell_type": "markdown",
   "metadata": {},
   "source": [
    "## Classical algorithm\n",
    "\n",
    "The only way to guess $s$ is to compute each of its components iteratively (i.e $n$ calls to $f$):"
   ]
  },
  {
   "cell_type": "code",
   "execution_count": null,
   "metadata": {},
   "outputs": [],
   "source": [
    "def classical_solve(n, oracle):\n",
    "    return [oracle([1 if j == i else 0 for j in range(n)]) for i in range(n)]\n",
    "\n",
    "co, qo, secret = random_oracle(5)\n",
    "\n",
    "print(classical_solve(5, co))\n",
    "print(secret)\n"
   ]
  },
  {
   "cell_type": "markdown",
   "metadata": {},
   "source": [
    "# Quantum algorithm: Bernstein-Vazirani\n",
    "\n",
    "\n",
    "We recall the algorithm:\n",
    "\n",
    "**Step 0:** allocating a register $|0^n\\rangle$ to store $x$\n",
    "\n",
    "**Step 1:** creating a uniform superposition $(H^{\\otimes n}|\\psi \\rangle) $\n",
    "\n",
    "**Step 2:** use the oracle to add a phase $-1$ to each component $|x\\rangle$ s.t $f(x) = 1$\n",
    "\n",
    "**Step 3:** perform a Hadamard transform  $(H^{\\otimes n}|\\psi \\rangle) $\n",
    "\n",
    "**Step 4:** the final state contains $|s\\rangle$, just measure it!\n",
    "\n",
    "\n",
    "There is a catch in step 2!\n",
    "\n",
    "hint: $H\\cdot NOT \\cdot H = Z$ and $Z|1\\rangle = - |1\\rangle$\n"
   ]
  },
  {
   "cell_type": "code",
   "execution_count": null,
   "metadata": {},
   "outputs": [],
   "source": [
    "from qat.qpus import get_default_qpu\n",
    "\n",
    "def quantum_solve(n, oracle):\n",
    "    prog = Program()\n",
    "    qbits = prog.qalloc(n)\n",
    "\n",
    "    \n",
    "    tmp = prog.qalloc(1)\n",
    "    X(tmp)\n",
    "    H(tmp)\n",
    "    for qbit in qbits:\n",
    "        H(qbit)\n",
    "    \n",
    "    oracle(qbits, tmp)\n",
    "    \n",
    "    for qbit in qbits:\n",
    "        H(qbit)\n",
    "    circuit = prog.to_circ()\n",
    "    job = circuit.to_job(qubits=list(range(n)))\n",
    "    qpu = get_default_qpu()\n",
    "    result = qpu.submit(job)\n",
    "    for sample in result:\n",
    "        return list(map(int, sample.state.value[0]))\n",
    "print(quantum_solve(5, qo))\n",
    "print(secret)\n",
    " "
   ]
  },
  {
   "cell_type": "code",
   "execution_count": null,
   "metadata": {},
   "outputs": [],
   "source": []
  }
 ],
 "metadata": {
  "kernelspec": {
   "display_name": "myqlm2",
   "language": "python",
   "name": "myqlm2"
  },
  "language_info": {
   "codemirror_mode": {
    "name": "ipython",
    "version": 3
   },
   "file_extension": ".py",
   "mimetype": "text/x-python",
   "name": "python",
   "nbconvert_exporter": "python",
   "pygments_lexer": "ipython3",
   "version": "3.6.12"
  }
 },
 "nbformat": 4,
 "nbformat_minor": 4
}
